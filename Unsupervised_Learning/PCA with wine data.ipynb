{
 "cells": [
  {
   "cell_type": "code",
   "execution_count": 3,
   "metadata": {},
   "outputs": [],
   "source": [
    "import numpy as np\n",
    "import pandas as pd\n",
    "import seaborn as sns\n",
    "import matplotlib.pyplot as plt\n",
    "%matplotlib inline\n",
    "sns.set()"
   ]
  },
  {
   "cell_type": "code",
   "execution_count": 16,
   "metadata": {
    "collapsed": true
   },
   "outputs": [],
   "source": [
    "#libraries for Machine Learning\n",
    "from sklearn.model_selection import train_test_split\n",
    "from sklearn.preprocessing import StandardScaler\n",
    "from sklearn.decomposition import PCA"
   ]
  },
  {
   "cell_type": "code",
   "execution_count": 17,
   "metadata": {
    "collapsed": true
   },
   "outputs": [],
   "source": [
    "#Loading the dataset\n",
    "df = pd.read_csv(\"wine.data.csv.txt\", header=-1)"
   ]
  },
  {
   "cell_type": "code",
   "execution_count": 18,
   "metadata": {},
   "outputs": [
    {
     "data": {
      "text/html": [
       "<div>\n",
       "<style scoped>\n",
       "    .dataframe tbody tr th:only-of-type {\n",
       "        vertical-align: middle;\n",
       "    }\n",
       "\n",
       "    .dataframe tbody tr th {\n",
       "        vertical-align: top;\n",
       "    }\n",
       "\n",
       "    .dataframe thead th {\n",
       "        text-align: right;\n",
       "    }\n",
       "</style>\n",
       "<table border=\"1\" class=\"dataframe\">\n",
       "  <thead>\n",
       "    <tr style=\"text-align: right;\">\n",
       "      <th></th>\n",
       "      <th>0</th>\n",
       "      <th>1</th>\n",
       "      <th>2</th>\n",
       "      <th>3</th>\n",
       "      <th>4</th>\n",
       "      <th>5</th>\n",
       "      <th>6</th>\n",
       "      <th>7</th>\n",
       "      <th>8</th>\n",
       "      <th>9</th>\n",
       "      <th>10</th>\n",
       "      <th>11</th>\n",
       "      <th>12</th>\n",
       "      <th>13</th>\n",
       "    </tr>\n",
       "  </thead>\n",
       "  <tbody>\n",
       "    <tr>\n",
       "      <th>0</th>\n",
       "      <td>1</td>\n",
       "      <td>14.23</td>\n",
       "      <td>1.71</td>\n",
       "      <td>2.43</td>\n",
       "      <td>15.6</td>\n",
       "      <td>127</td>\n",
       "      <td>2.80</td>\n",
       "      <td>3.06</td>\n",
       "      <td>0.28</td>\n",
       "      <td>2.29</td>\n",
       "      <td>5.64</td>\n",
       "      <td>1.04</td>\n",
       "      <td>3.92</td>\n",
       "      <td>1065</td>\n",
       "    </tr>\n",
       "    <tr>\n",
       "      <th>1</th>\n",
       "      <td>1</td>\n",
       "      <td>13.20</td>\n",
       "      <td>1.78</td>\n",
       "      <td>2.14</td>\n",
       "      <td>11.2</td>\n",
       "      <td>100</td>\n",
       "      <td>2.65</td>\n",
       "      <td>2.76</td>\n",
       "      <td>0.26</td>\n",
       "      <td>1.28</td>\n",
       "      <td>4.38</td>\n",
       "      <td>1.05</td>\n",
       "      <td>3.40</td>\n",
       "      <td>1050</td>\n",
       "    </tr>\n",
       "    <tr>\n",
       "      <th>2</th>\n",
       "      <td>1</td>\n",
       "      <td>13.16</td>\n",
       "      <td>2.36</td>\n",
       "      <td>2.67</td>\n",
       "      <td>18.6</td>\n",
       "      <td>101</td>\n",
       "      <td>2.80</td>\n",
       "      <td>3.24</td>\n",
       "      <td>0.30</td>\n",
       "      <td>2.81</td>\n",
       "      <td>5.68</td>\n",
       "      <td>1.03</td>\n",
       "      <td>3.17</td>\n",
       "      <td>1185</td>\n",
       "    </tr>\n",
       "    <tr>\n",
       "      <th>3</th>\n",
       "      <td>1</td>\n",
       "      <td>14.37</td>\n",
       "      <td>1.95</td>\n",
       "      <td>2.50</td>\n",
       "      <td>16.8</td>\n",
       "      <td>113</td>\n",
       "      <td>3.85</td>\n",
       "      <td>3.49</td>\n",
       "      <td>0.24</td>\n",
       "      <td>2.18</td>\n",
       "      <td>7.80</td>\n",
       "      <td>0.86</td>\n",
       "      <td>3.45</td>\n",
       "      <td>1480</td>\n",
       "    </tr>\n",
       "    <tr>\n",
       "      <th>4</th>\n",
       "      <td>1</td>\n",
       "      <td>13.24</td>\n",
       "      <td>2.59</td>\n",
       "      <td>2.87</td>\n",
       "      <td>21.0</td>\n",
       "      <td>118</td>\n",
       "      <td>2.80</td>\n",
       "      <td>2.69</td>\n",
       "      <td>0.39</td>\n",
       "      <td>1.82</td>\n",
       "      <td>4.32</td>\n",
       "      <td>1.04</td>\n",
       "      <td>2.93</td>\n",
       "      <td>735</td>\n",
       "    </tr>\n",
       "  </tbody>\n",
       "</table>\n",
       "</div>"
      ],
      "text/plain": [
       "   0      1     2     3     4    5     6     7     8     9     10    11    12  \\\n",
       "0   1  14.23  1.71  2.43  15.6  127  2.80  3.06  0.28  2.29  5.64  1.04  3.92   \n",
       "1   1  13.20  1.78  2.14  11.2  100  2.65  2.76  0.26  1.28  4.38  1.05  3.40   \n",
       "2   1  13.16  2.36  2.67  18.6  101  2.80  3.24  0.30  2.81  5.68  1.03  3.17   \n",
       "3   1  14.37  1.95  2.50  16.8  113  3.85  3.49  0.24  2.18  7.80  0.86  3.45   \n",
       "4   1  13.24  2.59  2.87  21.0  118  2.80  2.69  0.39  1.82  4.32  1.04  2.93   \n",
       "\n",
       "     13  \n",
       "0  1065  \n",
       "1  1050  \n",
       "2  1185  \n",
       "3  1480  \n",
       "4   735  "
      ]
     },
     "execution_count": 18,
     "metadata": {},
     "output_type": "execute_result"
    }
   ],
   "source": [
    "#Getting to know the data\n",
    "df.shape\n",
    "df.head()"
   ]
  },
  {
   "cell_type": "code",
   "execution_count": 19,
   "metadata": {},
   "outputs": [],
   "source": [
    "#data setup\n",
    "X = df.iloc[:, 1:]\n",
    "y = df[1]"
   ]
  },
  {
   "cell_type": "code",
   "execution_count": 20,
   "metadata": {
    "collapsed": true
   },
   "outputs": [],
   "source": [
    "#data split\n",
    "X_train, X_test, y_train, y_test = train_test_split(X, y, test_size=0.2, random_state=42)"
   ]
  },
  {
   "cell_type": "code",
   "execution_count": 23,
   "metadata": {
    "collapsed": true
   },
   "outputs": [],
   "source": [
    "sc = StandardScaler()\n",
    "X_train_sc = sc.fit_transform(X_train)\n",
    "X_test_sc = sc.fit_transform(X_test)"
   ]
  },
  {
   "cell_type": "code",
   "execution_count": 24,
   "metadata": {},
   "outputs": [
    {
     "data": {
      "text/plain": [
       "PCA(copy=True, iterated_power='auto', n_components=2, random_state=None,\n",
       "  svd_solver='auto', tol=0.0, whiten=False)"
      ]
     },
     "execution_count": 24,
     "metadata": {},
     "output_type": "execute_result"
    }
   ],
   "source": [
    "#PCA code\n",
    "pca = PCA(n_components=2)\n",
    "pca.fit(X_test_sc)"
   ]
  },
  {
   "cell_type": "code",
   "execution_count": 26,
   "metadata": {},
   "outputs": [
    {
     "name": "stdout",
     "output_type": "stream",
     "text": [
      "[0.3907 0.2358]\n"
     ]
    }
   ],
   "source": [
    "#Getting the variance scores and rounding them with the last 4 digits\n",
    "pca.explained_variance_ratio_\n",
    "print(np.round(pca.explained_variance_ratio_,4))"
   ]
  },
  {
   "cell_type": "code",
   "execution_count": 27,
   "metadata": {},
   "outputs": [
    {
     "data": {
      "text/html": [
       "<div>\n",
       "<style scoped>\n",
       "    .dataframe tbody tr th:only-of-type {\n",
       "        vertical-align: middle;\n",
       "    }\n",
       "\n",
       "    .dataframe tbody tr th {\n",
       "        vertical-align: top;\n",
       "    }\n",
       "\n",
       "    .dataframe thead th {\n",
       "        text-align: right;\n",
       "    }\n",
       "</style>\n",
       "<table border=\"1\" class=\"dataframe\">\n",
       "  <thead>\n",
       "    <tr style=\"text-align: right;\">\n",
       "      <th></th>\n",
       "      <th>1</th>\n",
       "      <th>2</th>\n",
       "      <th>3</th>\n",
       "      <th>4</th>\n",
       "      <th>5</th>\n",
       "      <th>6</th>\n",
       "      <th>7</th>\n",
       "      <th>8</th>\n",
       "      <th>9</th>\n",
       "      <th>10</th>\n",
       "      <th>11</th>\n",
       "      <th>12</th>\n",
       "      <th>13</th>\n",
       "    </tr>\n",
       "  </thead>\n",
       "  <tbody>\n",
       "    <tr>\n",
       "      <th>0</th>\n",
       "      <td>-0.2148</td>\n",
       "      <td>0.1757</td>\n",
       "      <td>-0.0845</td>\n",
       "      <td>0.2101</td>\n",
       "      <td>-0.1588</td>\n",
       "      <td>-0.4159</td>\n",
       "      <td>-0.4199</td>\n",
       "      <td>0.3160</td>\n",
       "      <td>-0.3282</td>\n",
       "      <td>-0.0462</td>\n",
       "      <td>-0.2752</td>\n",
       "      <td>-0.3227</td>\n",
       "      <td>-0.3280</td>\n",
       "    </tr>\n",
       "    <tr>\n",
       "      <th>1</th>\n",
       "      <td>0.4185</td>\n",
       "      <td>0.3609</td>\n",
       "      <td>0.2748</td>\n",
       "      <td>0.0984</td>\n",
       "      <td>0.4158</td>\n",
       "      <td>-0.0638</td>\n",
       "      <td>-0.0806</td>\n",
       "      <td>-0.1412</td>\n",
       "      <td>-0.0851</td>\n",
       "      <td>0.4495</td>\n",
       "      <td>-0.2970</td>\n",
       "      <td>-0.2197</td>\n",
       "      <td>0.2455</td>\n",
       "    </tr>\n",
       "  </tbody>\n",
       "</table>\n",
       "</div>"
      ],
      "text/plain": [
       "       1       2       3       4       5       6       7       8       9   \\\n",
       "0 -0.2148  0.1757 -0.0845  0.2101 -0.1588 -0.4159 -0.4199  0.3160 -0.3282   \n",
       "1  0.4185  0.3609  0.2748  0.0984  0.4158 -0.0638 -0.0806 -0.1412 -0.0851   \n",
       "\n",
       "       10      11      12      13  \n",
       "0 -0.0462 -0.2752 -0.3227 -0.3280  \n",
       "1  0.4495 -0.2970 -0.2197  0.2455  "
      ]
     },
     "execution_count": 27,
     "metadata": {},
     "output_type": "execute_result"
    }
   ],
   "source": [
    "#Converting the data to a dataframe\n",
    "pd.DataFrame(np.round(pca.components_, 4), columns = X.columns)"
   ]
  },
  {
   "cell_type": "code",
   "execution_count": 28,
   "metadata": {},
   "outputs": [
    {
     "data": {
      "text/plain": [
       "PCA(copy=True, iterated_power='auto', n_components=None, random_state=None,\n",
       "  svd_solver='auto', tol=0.0, whiten=False)"
      ]
     },
     "execution_count": 28,
     "metadata": {},
     "output_type": "execute_result"
    }
   ],
   "source": [
    "pca = PCA(n_components=None)\n",
    "pca.fit(X_test_sc)"
   ]
  },
  {
   "cell_type": "code",
   "execution_count": 29,
   "metadata": {},
   "outputs": [
    {
     "data": {
      "text/plain": [
       "array([[-2.24903524e+00,  1.21228425e+00,  6.90305769e-01,\n",
       "        -8.97294656e-01, -1.25217464e+00, -7.16028152e-02,\n",
       "         1.31012951e+00, -6.26822414e-02,  2.63370120e-01,\n",
       "        -5.16776214e-01, -3.18171331e-01, -2.95254386e-02,\n",
       "        -1.08162959e-01],\n",
       "       [-1.24008397e+00,  1.92929117e+00,  9.07112549e-01,\n",
       "        -7.61364918e-01, -1.64471803e+00, -1.72882668e-01,\n",
       "        -4.00950115e-01,  3.09877331e-01, -5.53102412e-01,\n",
       "         4.66893868e-01, -2.58156045e-01, -2.96027922e-01,\n",
       "        -4.06577878e-02],\n",
       "       [ 3.13572163e+00,  7.62842227e-01, -7.24256655e-01,\n",
       "         7.43657783e-01, -1.18014590e+00, -5.52657895e-01,\n",
       "        -2.41500075e-01, -5.03151140e-01,  5.48146759e-01,\n",
       "         3.81020057e-01, -1.20623560e-01, -1.77761093e-01,\n",
       "         3.17201576e-03],\n",
       "       [-2.68098914e+00,  5.55699703e-01, -1.78561330e+00,\n",
       "         1.87795097e-01,  6.71834523e-01,  3.20014031e-01,\n",
       "        -1.09162973e+00, -1.46845577e-01, -1.84621737e-01,\n",
       "         1.13237600e-01, -1.54335102e-01,  3.54228264e-01,\n",
       "         1.17415332e-01],\n",
       "       [ 3.97365870e-01, -2.46751903e+00,  1.27107118e+00,\n",
       "        -2.35986138e-01,  8.18051417e-01, -1.31675052e+00,\n",
       "        -1.01868532e-01,  1.01522284e+00, -7.56677364e-03,\n",
       "        -5.41109411e-01,  2.37193241e-01, -3.58434713e-01,\n",
       "        -1.49876277e-01],\n",
       "       [-2.44476011e+00,  1.92540874e+00, -1.21555818e+00,\n",
       "         6.66326501e-01, -3.08113788e-01,  5.32641020e-01,\n",
       "        -1.17967526e-01,  3.17831231e-01,  2.23878099e-01,\n",
       "         6.16898647e-01, -2.34757294e-01,  2.22560420e-01,\n",
       "        -1.42118290e-01],\n",
       "       [ 1.21308846e+00, -1.92270412e+00,  9.46046190e-01,\n",
       "        -1.49913988e+00, -7.44570182e-01,  1.24481385e+00,\n",
       "        -4.25727688e-01, -1.81382860e-01,  1.45154324e-02,\n",
       "        -4.63934447e-01,  1.29129505e-01, -5.98224380e-01,\n",
       "        -8.95146756e-02],\n",
       "       [ 2.60051791e+00,  2.41868864e+00, -3.26659029e-01,\n",
       "        -1.26565606e-01,  2.66294954e-01,  7.67776916e-01,\n",
       "        -5.99793880e-01, -3.06717693e-01, -3.12303291e-01,\n",
       "         6.18311154e-02, -2.59652909e-01, -2.39086694e-01,\n",
       "         2.98251376e-01],\n",
       "       [-1.29553256e+00, -1.80462834e+00, -1.82254700e+00,\n",
       "        -1.26154102e+00,  6.03905434e-02,  2.42437420e-01,\n",
       "         5.96731787e-01, -1.45565131e+00,  2.33962455e-01,\n",
       "        -1.09882317e-01,  4.86128541e-01, -3.15833553e-01,\n",
       "        -9.02561869e-02],\n",
       "       [ 2.62128825e+00,  8.73544787e-01,  9.82022274e-01,\n",
       "         3.04297373e-01, -1.92637536e-01, -9.74429338e-01,\n",
       "        -4.20037716e-01,  5.91024448e-02,  8.07204631e-01,\n",
       "        -8.57547766e-02,  5.49866889e-01,  2.36447529e-01,\n",
       "         7.24510421e-02],\n",
       "       [-1.61602529e+00, -5.78868028e-01, -5.38749274e-01,\n",
       "        -5.32076717e-01, -7.55018080e-01, -1.00956485e+00,\n",
       "        -5.08797567e-01,  1.11576414e-01,  6.92807739e-01,\n",
       "         1.68735054e-02, -4.14086702e-01,  9.07681184e-03,\n",
       "        -8.97451595e-02],\n",
       "       [ 2.07047201e+00,  3.69566113e+00, -1.04692799e+00,\n",
       "        -1.02951826e+00,  1.10679839e+00,  1.64666517e-01,\n",
       "         1.31674818e+00,  7.06097849e-01,  1.84305908e-01,\n",
       "        -3.21861918e-01,  6.81890022e-02,  5.45065077e-01,\n",
       "        -3.46268667e-01],\n",
       "       [-4.73652629e-01,  2.41865931e-01,  1.63063616e+00,\n",
       "        -1.02324437e+00, -6.02512509e-01,  3.19158292e-01,\n",
       "        -9.03548151e-01,  1.26226043e-02, -7.63472949e-01,\n",
       "        -3.72627869e-01,  1.45765381e-01,  1.11404013e-01,\n",
       "        -3.12228107e-01],\n",
       "       [ 3.04671721e+00, -7.72024352e-01,  2.41244714e+00,\n",
       "        -5.46059921e-02, -6.27388370e-01,  4.27430436e-01,\n",
       "         3.37634476e-01, -4.62049163e-01, -2.68873169e-01,\n",
       "        -3.62817470e-02, -1.07027580e-01,  4.87435810e-01,\n",
       "        -1.26410872e-01],\n",
       "       [-2.52551899e+00,  1.12992464e+00, -6.13577570e-01,\n",
       "         1.56985709e+00, -5.56080414e-01, -3.52550185e-01,\n",
       "         2.48885283e-01,  2.77322110e-01, -1.74123335e-01,\n",
       "        -5.90893916e-01, -9.59208699e-02, -2.57857125e-01,\n",
       "        -3.78893999e-02],\n",
       "       [ 7.56934779e-01, -1.46419020e+00,  3.54405625e-01,\n",
       "        -1.55602338e+00, -2.15431589e-01, -3.70415427e-01,\n",
       "         3.40152833e-01,  4.73113069e-01, -7.53953082e-01,\n",
       "         2.95191732e-02,  6.54067076e-02,  6.04971942e-01,\n",
       "         3.56771792e-01],\n",
       "       [ 1.00415351e+00, -2.38664908e+00, -1.72963780e+00,\n",
       "         5.13115789e-01,  2.96938325e-01, -1.70381397e-01,\n",
       "         6.91832696e-01, -2.91384901e-01, -5.18733434e-01,\n",
       "        -7.62083074e-02,  3.55967527e-01,  1.84387984e-02,\n",
       "         2.75854669e-01],\n",
       "       [ 1.08530894e+00, -2.46176039e+00, -1.86113493e+00,\n",
       "         3.32029740e-01,  1.33321983e-01, -6.70133792e-01,\n",
       "        -1.20468009e+00,  3.96011884e-01,  6.83097860e-02,\n",
       "        -7.60653588e-01, -9.63453628e-02,  2.58164055e-01,\n",
       "         1.46641428e-01],\n",
       "       [-2.84387507e+00,  8.43755104e-02,  1.26936679e+00,\n",
       "         1.76579201e-01,  6.24458287e-01, -5.84835999e-01,\n",
       "         3.37955777e-01, -7.81815724e-02,  2.47765236e-01,\n",
       "         2.95622446e-01, -2.22180985e-02, -2.31366952e-01,\n",
       "         3.26671642e-02],\n",
       "       [ 1.04181520e+00, -1.96902556e+00, -1.08527991e+00,\n",
       "        -3.62929113e-01, -3.73369515e-01, -1.34572311e+00,\n",
       "        -9.61435223e-03, -2.21949909e-01, -5.91962626e-01,\n",
       "         8.48713561e-01,  1.02203544e-01, -1.20980291e-01,\n",
       "        -1.13766556e-01],\n",
       "       [-3.87790323e+00,  1.35360827e+00,  2.18706008e-01,\n",
       "         1.95491363e+00,  2.76361156e-01,  2.72178059e-01,\n",
       "        -3.73976644e-01, -2.39356730e-04, -7.41407261e-01,\n",
       "         1.94998304e-01,  1.35364655e-01, -1.60700709e-01,\n",
       "        -3.46157654e-01],\n",
       "       [-1.91142681e+00, -2.68851913e+00,  2.37090572e+00,\n",
       "        -1.99872363e-01,  1.74325514e+00,  5.71936088e-01,\n",
       "         4.21500628e-01,  2.53241883e-02, -2.94594204e-01,\n",
       "         2.13171101e-01, -6.74901924e-01, -3.46383850e-02,\n",
       "         2.89946000e-01],\n",
       "       [ 2.22458361e+00, -1.51749552e+00, -2.13152217e-01,\n",
       "         3.41733429e+00, -1.33318803e+00,  5.71649344e-01,\n",
       "         8.87657015e-01,  9.11226803e-01, -2.94031019e-01,\n",
       "         1.94850014e-01,  7.74452704e-02, -1.12429407e-02,\n",
       "         2.73707243e-01],\n",
       "       [ 2.04981837e+00,  3.79315509e+00, -1.24342492e+00,\n",
       "        -1.31273661e+00, -1.39909224e-01, -5.85337612e-01,\n",
       "         3.09999475e-04, -1.98344408e-01, -6.05621169e-01,\n",
       "        -6.45509817e-01, -3.72654016e-01, -3.09069838e-01,\n",
       "         3.61083094e-01],\n",
       "       [ 3.90093386e+00,  1.25810199e+00,  1.07192836e+00,\n",
       "         1.25749998e+00,  1.31210563e+00, -7.08580847e-01,\n",
       "         5.23960563e-01, -7.42005630e-01, -1.33709617e-01,\n",
       "         2.69396285e-01,  1.61723532e-01, -4.61320652e-01,\n",
       "        -1.74322329e-01],\n",
       "       [ 2.98471063e+00,  2.03539851e+00,  7.28926770e-01,\n",
       "         6.79120578e-01,  1.50944312e+00, -3.85761573e-01,\n",
       "        -4.98986072e-01, -8.42558242e-03,  2.10447604e-01,\n",
       "         7.32833092e-02, -4.39425152e-01,  2.89786928e-03,\n",
       "        -6.77057782e-02],\n",
       "       [ 6.34088768e-01, -1.43188168e+00, -9.32772321e-01,\n",
       "        -1.04719519e+00, -1.05477920e-01,  4.41847507e-01,\n",
       "         5.51439576e-01,  1.51756018e+00,  4.64955121e-01,\n",
       "         2.39751938e-01, -1.00270659e-01, -2.54198653e-01,\n",
       "        -2.32200893e-01],\n",
       "       [-7.01923071e-01, -1.13545362e+00, -1.24698896e+00,\n",
       "         7.68101102e-01,  3.67924653e-01,  7.60787667e-01,\n",
       "         7.60617189e-01, -5.15900655e-01,  5.25772360e-02,\n",
       "        -4.66374346e-01, -3.59770534e-01,  1.03540165e-01,\n",
       "        -6.87196248e-02],\n",
       "       [ 2.02549034e+00, -2.23319755e+00, -3.19528233e-01,\n",
       "         8.30804428e-01, -2.23299253e-01,  8.62133685e-01,\n",
       "        -2.10256976e-01, -6.29078775e-01,  4.46932536e-01,\n",
       "        -2.89166527e-01, -4.09598611e-01,  8.30596898e-02,\n",
       "        -3.21989492e-01],\n",
       "       [-2.67245924e+00,  1.06708022e+00, -7.31758087e-01,\n",
       "        -7.96932777e-01,  7.28016673e-01,  6.38742996e-01,\n",
       "         2.15836525e-01,  2.80497246e-01,  3.89405169e-01,\n",
       "         2.35947575e-01,  3.19317426e-01, -3.85981254e-01,\n",
       "         3.78372345e-01],\n",
       "       [-2.15185776e+00, -3.75024736e-01,  1.38856798e+00,\n",
       "        -2.90084756e-02, -5.06601685e-02,  1.70092308e-02,\n",
       "        -2.85781913e-01,  8.94778472e-02,  1.01855193e+00,\n",
       "         2.04512060e-01, -1.60589024e-01, -6.27123791e-02,\n",
       "         3.71410576e-01],\n",
       "       [ 1.02118647e+00, -1.80257499e+00, -1.23948569e+00,\n",
       "        -1.36045172e+00,  5.67766211e-01,  2.47073271e-01,\n",
       "        -4.27565059e-01,  8.96776266e-02, -1.23866856e-01,\n",
       "         9.19375394e-01, -1.64107788e-01,  2.00753230e-01,\n",
       "        -3.02034687e-01],\n",
       "       [ 3.01013347e+00,  1.31068256e+00,  7.22692283e-01,\n",
       "        -3.77892197e-01, -3.02093340e-01,  1.43313893e+00,\n",
       "        -4.21143130e-01,  1.80235803e-01,  3.40818249e-01,\n",
       "         3.33931257e-01,  7.10038157e-01,  1.59190274e-01,\n",
       "         1.94994726e-01],\n",
       "       [-2.81206061e+00,  8.83120023e-01,  4.88410781e-02,\n",
       "         4.06421221e-01,  6.32859159e-01,  2.79645372e-01,\n",
       "        -4.11700543e-01,  3.54707083e-01, -1.81321985e-01,\n",
       "        -2.47718483e-01,  8.66561627e-01, -5.40906305e-02,\n",
       "        -1.34164593e-01],\n",
       "       [-2.08523883e+00, -1.16988778e-01,  7.87194382e-01,\n",
       "         1.06335016e+00,  5.38270535e-02,  3.06440462e-02,\n",
       "        -6.51616619e-01, -4.88402388e-01,  2.48464526e-01,\n",
       "        -4.97188856e-01,  8.90589406e-02,  4.61452784e-01,\n",
       "         1.08381132e-02],\n",
       "       [-3.24198677e+00,  5.97771724e-01,  8.75875818e-01,\n",
       "        -4.06824593e-01, -5.62858739e-01, -8.74116634e-01,\n",
       "         7.65750334e-01, -8.35091391e-01,  4.68463831e-02,\n",
       "         3.12115332e-01,  2.63252619e-01,  5.00366870e-01,\n",
       "         1.10613072e-01]])"
      ]
     },
     "execution_count": 29,
     "metadata": {},
     "output_type": "execute_result"
    }
   ],
   "source": [
    "pca.fit_transform(X_test_sc)"
   ]
  },
  {
   "cell_type": "code",
   "execution_count": 30,
   "metadata": {},
   "outputs": [
    {
     "name": "stdout",
     "output_type": "stream",
     "text": [
      "[0.3907 0.2358 0.1077 0.0855 0.0467 0.0351 0.029  0.0228 0.015  0.0128\n",
      " 0.0084 0.0069 0.0037]\n"
     ]
    }
   ],
   "source": [
    "print(np.round(pca.explained_variance_ratio_, 4))"
   ]
  },
  {
   "cell_type": "code",
   "execution_count": 31,
   "metadata": {},
   "outputs": [
    {
     "data": {
      "text/plain": [
       "array([0.39072364, 0.62652407, 0.73418358, 0.81967253, 0.86639274,\n",
       "       0.90151338, 0.93056176, 0.95332473, 0.96829372, 0.98106291,\n",
       "       0.98948559, 0.99634804, 1.        ])"
      ]
     },
     "execution_count": 31,
     "metadata": {},
     "output_type": "execute_result"
    }
   ],
   "source": [
    "#will plot this in the next cell\n",
    "np.cumsum(pca.explained_variance_ratio_)"
   ]
  },
  {
   "cell_type": "code",
   "execution_count": 32,
   "metadata": {},
   "outputs": [
    {
     "data": {
      "image/png": "[encoded data removed]",
      "text/plain": [
       "<Figure size 432x288 with 1 Axes>"
      ]
     },
     "metadata": {},
     "output_type": "display_data"
    }
   ],
   "source": [
    "#plotting the data\n",
    "#retain x amount of features before 90%\n",
    "#in this case retain 5 features\n",
    "plt.plot(np.cumsum(pca.explained_variance_ratio_)*100)\n",
    "plt.xlabel(\"number of components\")\n",
    "plt.ylabel('cumulative explined variance');"
   ]
  },
  {
   "cell_type": "code",
   "execution_count": null,
   "metadata": {
    "collapsed": true
   },
   "outputs": [],
   "source": []
  }
 ],
 "metadata": {
  "kernelspec": {
   "display_name": "Python 3",
   "language": "python",
   "name": "python3"
  },
  "language_info": {
   "codemirror_mode": {
    "name": "ipython",
    "version": 3
   },
   "file_extension": ".py",
   "mimetype": "text/x-python",
   "name": "python",
   "nbconvert_exporter": "python",
   "pygments_lexer": "ipython3",
   "version": "3.7.0"
  }
 },
 "nbformat": 4,
 "nbformat_minor": 2
}
